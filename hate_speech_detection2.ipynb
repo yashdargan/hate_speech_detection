{
 "cells": [
  {
   "cell_type": "code",
   "execution_count": 124,
   "id": "00051b12",
   "metadata": {
    "scrolled": true
   },
   "outputs": [],
   "source": [
    "import numpy as np\n",
    "import pandas as pd\n"
   ]
  },
  {
   "cell_type": "code",
   "execution_count": 125,
   "id": "ec73ee8f",
   "metadata": {
    "scrolled": true
   },
   "outputs": [
    {
     "data": {
      "text/html": [
       "<div>\n",
       "<style scoped>\n",
       "    .dataframe tbody tr th:only-of-type {\n",
       "        vertical-align: middle;\n",
       "    }\n",
       "\n",
       "    .dataframe tbody tr th {\n",
       "        vertical-align: top;\n",
       "    }\n",
       "\n",
       "    .dataframe thead th {\n",
       "        text-align: right;\n",
       "    }\n",
       "</style>\n",
       "<table border=\"1\" class=\"dataframe\">\n",
       "  <thead>\n",
       "    <tr style=\"text-align: right;\">\n",
       "      <th></th>\n",
       "      <th>Tweet Id</th>\n",
       "      <th>Tweets</th>\n",
       "      <th>User Id</th>\n",
       "      <th>Screen Name</th>\n",
       "      <th>Class</th>\n",
       "    </tr>\n",
       "  </thead>\n",
       "  <tbody>\n",
       "    <tr>\n",
       "      <th>0</th>\n",
       "      <td>319399851215433000</td>\n",
       "      <td>Oh yeah Colin! Smash those girls! :D #MKR</td>\n",
       "      <td>949380854</td>\n",
       "      <td>CreatrixKali</td>\n",
       "      <td>sexism</td>\n",
       "    </tr>\n",
       "    <tr>\n",
       "      <th>1</th>\n",
       "      <td>320817818222358000</td>\n",
       "      <td>It's insane they keep bringing people back. Wh...</td>\n",
       "      <td>297877558</td>\n",
       "      <td>quincepoacher</td>\n",
       "      <td>none</td>\n",
       "    </tr>\n",
       "    <tr>\n",
       "      <th>2</th>\n",
       "      <td>324114200450437000</td>\n",
       "      <td>@berkeley_eagle #MKR  this shit show has more ...</td>\n",
       "      <td>272704749</td>\n",
       "      <td>MarkTramby</td>\n",
       "      <td>none</td>\n",
       "    </tr>\n",
       "    <tr>\n",
       "      <th>3</th>\n",
       "      <td>326286656854454000</td>\n",
       "      <td>*sigh* oh Colin 😍 #MKR</td>\n",
       "      <td>71416635</td>\n",
       "      <td>BinnyD</td>\n",
       "      <td>none</td>\n",
       "    </tr>\n",
       "    <tr>\n",
       "      <th>4</th>\n",
       "      <td>381988216292655000</td>\n",
       "      <td>RT @brian_day15: I swear, I'm not sexist, but ...</td>\n",
       "      <td>930620467</td>\n",
       "      <td>YesYoureSexist</td>\n",
       "      <td>sexism</td>\n",
       "    </tr>\n",
       "  </tbody>\n",
       "</table>\n",
       "</div>"
      ],
      "text/plain": [
       "             Tweet Id                                             Tweets   \n",
       "0  319399851215433000          Oh yeah Colin! Smash those girls! :D #MKR  \\\n",
       "1  320817818222358000  It's insane they keep bringing people back. Wh...   \n",
       "2  324114200450437000  @berkeley_eagle #MKR  this shit show has more ...   \n",
       "3  326286656854454000                             *sigh* oh Colin 😍 #MKR   \n",
       "4  381988216292655000  RT @brian_day15: I swear, I'm not sexist, but ...   \n",
       "\n",
       "     User Id     Screen Name   Class  \n",
       "0  949380854    CreatrixKali  sexism  \n",
       "1  297877558   quincepoacher    none  \n",
       "2  272704749      MarkTramby    none  \n",
       "3   71416635          BinnyD    none  \n",
       "4  930620467  YesYoureSexist  sexism  "
      ]
     },
     "execution_count": 125,
     "metadata": {},
     "output_type": "execute_result"
    }
   ],
   "source": [
    "df=pd.read_csv('csv_data/final_dataset.csv')\n",
    "df.head()\n"
   ]
  },
  {
   "cell_type": "code",
   "execution_count": 126,
   "id": "cf441ad6",
   "metadata": {},
   "outputs": [],
   "source": [
    "df.rename(columns={'Class':'Label'},inplace=True)"
   ]
  },
  {
   "cell_type": "code",
   "execution_count": 127,
   "id": "e0e6354b",
   "metadata": {},
   "outputs": [
    {
     "data": {
      "text/html": [
       "<div>\n",
       "<style scoped>\n",
       "    .dataframe tbody tr th:only-of-type {\n",
       "        vertical-align: middle;\n",
       "    }\n",
       "\n",
       "    .dataframe tbody tr th {\n",
       "        vertical-align: top;\n",
       "    }\n",
       "\n",
       "    .dataframe thead th {\n",
       "        text-align: right;\n",
       "    }\n",
       "</style>\n",
       "<table border=\"1\" class=\"dataframe\">\n",
       "  <thead>\n",
       "    <tr style=\"text-align: right;\">\n",
       "      <th></th>\n",
       "      <th>Tweet Id</th>\n",
       "      <th>Tweets</th>\n",
       "      <th>User Id</th>\n",
       "      <th>Screen Name</th>\n",
       "      <th>Label</th>\n",
       "    </tr>\n",
       "  </thead>\n",
       "  <tbody>\n",
       "    <tr>\n",
       "      <th>0</th>\n",
       "      <td>319399851215433000</td>\n",
       "      <td>Oh yeah Colin! Smash those girls! :D #MKR</td>\n",
       "      <td>949380854</td>\n",
       "      <td>CreatrixKali</td>\n",
       "      <td>sexism</td>\n",
       "    </tr>\n",
       "    <tr>\n",
       "      <th>1</th>\n",
       "      <td>320817818222358000</td>\n",
       "      <td>It's insane they keep bringing people back. Wh...</td>\n",
       "      <td>297877558</td>\n",
       "      <td>quincepoacher</td>\n",
       "      <td>none</td>\n",
       "    </tr>\n",
       "    <tr>\n",
       "      <th>2</th>\n",
       "      <td>324114200450437000</td>\n",
       "      <td>@berkeley_eagle #MKR  this shit show has more ...</td>\n",
       "      <td>272704749</td>\n",
       "      <td>MarkTramby</td>\n",
       "      <td>none</td>\n",
       "    </tr>\n",
       "    <tr>\n",
       "      <th>3</th>\n",
       "      <td>326286656854454000</td>\n",
       "      <td>*sigh* oh Colin 😍 #MKR</td>\n",
       "      <td>71416635</td>\n",
       "      <td>BinnyD</td>\n",
       "      <td>none</td>\n",
       "    </tr>\n",
       "    <tr>\n",
       "      <th>4</th>\n",
       "      <td>381988216292655000</td>\n",
       "      <td>RT @brian_day15: I swear, I'm not sexist, but ...</td>\n",
       "      <td>930620467</td>\n",
       "      <td>YesYoureSexist</td>\n",
       "      <td>sexism</td>\n",
       "    </tr>\n",
       "  </tbody>\n",
       "</table>\n",
       "</div>"
      ],
      "text/plain": [
       "             Tweet Id                                             Tweets   \n",
       "0  319399851215433000          Oh yeah Colin! Smash those girls! :D #MKR  \\\n",
       "1  320817818222358000  It's insane they keep bringing people back. Wh...   \n",
       "2  324114200450437000  @berkeley_eagle #MKR  this shit show has more ...   \n",
       "3  326286656854454000                             *sigh* oh Colin 😍 #MKR   \n",
       "4  381988216292655000  RT @brian_day15: I swear, I'm not sexist, but ...   \n",
       "\n",
       "     User Id     Screen Name   Label  \n",
       "0  949380854    CreatrixKali  sexism  \n",
       "1  297877558   quincepoacher    none  \n",
       "2  272704749      MarkTramby    none  \n",
       "3   71416635          BinnyD    none  \n",
       "4  930620467  YesYoureSexist  sexism  "
      ]
     },
     "execution_count": 127,
     "metadata": {},
     "output_type": "execute_result"
    }
   ],
   "source": [
    "df.head()"
   ]
  },
  {
   "cell_type": "code",
   "execution_count": 128,
   "id": "9a1eb282",
   "metadata": {},
   "outputs": [],
   "source": [
    "df['Label']=df['Label'].replace({'sexism':1,'none':0})"
   ]
  },
  {
   "cell_type": "code",
   "execution_count": 129,
   "id": "bc23325e",
   "metadata": {},
   "outputs": [
    {
     "data": {
      "text/html": [
       "<div>\n",
       "<style scoped>\n",
       "    .dataframe tbody tr th:only-of-type {\n",
       "        vertical-align: middle;\n",
       "    }\n",
       "\n",
       "    .dataframe tbody tr th {\n",
       "        vertical-align: top;\n",
       "    }\n",
       "\n",
       "    .dataframe thead th {\n",
       "        text-align: right;\n",
       "    }\n",
       "</style>\n",
       "<table border=\"1\" class=\"dataframe\">\n",
       "  <thead>\n",
       "    <tr style=\"text-align: right;\">\n",
       "      <th></th>\n",
       "      <th>Tweet Id</th>\n",
       "      <th>Tweets</th>\n",
       "      <th>User Id</th>\n",
       "      <th>Screen Name</th>\n",
       "      <th>Label</th>\n",
       "    </tr>\n",
       "  </thead>\n",
       "  <tbody>\n",
       "    <tr>\n",
       "      <th>0</th>\n",
       "      <td>319399851215433000</td>\n",
       "      <td>Oh yeah Colin! Smash those girls! :D #MKR</td>\n",
       "      <td>949380854</td>\n",
       "      <td>CreatrixKali</td>\n",
       "      <td>1</td>\n",
       "    </tr>\n",
       "    <tr>\n",
       "      <th>1</th>\n",
       "      <td>320817818222358000</td>\n",
       "      <td>It's insane they keep bringing people back. Wh...</td>\n",
       "      <td>297877558</td>\n",
       "      <td>quincepoacher</td>\n",
       "      <td>0</td>\n",
       "    </tr>\n",
       "    <tr>\n",
       "      <th>2</th>\n",
       "      <td>324114200450437000</td>\n",
       "      <td>@berkeley_eagle #MKR  this shit show has more ...</td>\n",
       "      <td>272704749</td>\n",
       "      <td>MarkTramby</td>\n",
       "      <td>0</td>\n",
       "    </tr>\n",
       "    <tr>\n",
       "      <th>3</th>\n",
       "      <td>326286656854454000</td>\n",
       "      <td>*sigh* oh Colin 😍 #MKR</td>\n",
       "      <td>71416635</td>\n",
       "      <td>BinnyD</td>\n",
       "      <td>0</td>\n",
       "    </tr>\n",
       "    <tr>\n",
       "      <th>4</th>\n",
       "      <td>381988216292655000</td>\n",
       "      <td>RT @brian_day15: I swear, I'm not sexist, but ...</td>\n",
       "      <td>930620467</td>\n",
       "      <td>YesYoureSexist</td>\n",
       "      <td>1</td>\n",
       "    </tr>\n",
       "  </tbody>\n",
       "</table>\n",
       "</div>"
      ],
      "text/plain": [
       "             Tweet Id                                             Tweets   \n",
       "0  319399851215433000          Oh yeah Colin! Smash those girls! :D #MKR  \\\n",
       "1  320817818222358000  It's insane they keep bringing people back. Wh...   \n",
       "2  324114200450437000  @berkeley_eagle #MKR  this shit show has more ...   \n",
       "3  326286656854454000                             *sigh* oh Colin 😍 #MKR   \n",
       "4  381988216292655000  RT @brian_day15: I swear, I'm not sexist, but ...   \n",
       "\n",
       "     User Id     Screen Name Label  \n",
       "0  949380854    CreatrixKali     1  \n",
       "1  297877558   quincepoacher     0  \n",
       "2  272704749      MarkTramby     0  \n",
       "3   71416635          BinnyD     0  \n",
       "4  930620467  YesYoureSexist     1  "
      ]
     },
     "execution_count": 129,
     "metadata": {},
     "output_type": "execute_result"
    }
   ],
   "source": [
    "df.head()"
   ]
  },
  {
   "cell_type": "code",
   "execution_count": 130,
   "id": "16ffd333",
   "metadata": {},
   "outputs": [],
   "source": [
    "df=df.drop(['User Id','Screen Name','Tweet Id'],axis=1)"
   ]
  },
  {
   "cell_type": "code",
   "execution_count": null,
   "id": "af5479b9",
   "metadata": {},
   "outputs": [],
   "source": []
  },
  {
   "cell_type": "code",
   "execution_count": 131,
   "id": "acbc9928",
   "metadata": {},
   "outputs": [
    {
     "data": {
      "text/html": [
       "<div>\n",
       "<style scoped>\n",
       "    .dataframe tbody tr th:only-of-type {\n",
       "        vertical-align: middle;\n",
       "    }\n",
       "\n",
       "    .dataframe tbody tr th {\n",
       "        vertical-align: top;\n",
       "    }\n",
       "\n",
       "    .dataframe thead th {\n",
       "        text-align: right;\n",
       "    }\n",
       "</style>\n",
       "<table border=\"1\" class=\"dataframe\">\n",
       "  <thead>\n",
       "    <tr style=\"text-align: right;\">\n",
       "      <th></th>\n",
       "      <th>Tweets</th>\n",
       "      <th>Label</th>\n",
       "    </tr>\n",
       "  </thead>\n",
       "  <tbody>\n",
       "    <tr>\n",
       "      <th>0</th>\n",
       "      <td>Oh yeah Colin! Smash those girls! :D #MKR</td>\n",
       "      <td>1</td>\n",
       "    </tr>\n",
       "    <tr>\n",
       "      <th>1</th>\n",
       "      <td>It's insane they keep bringing people back. Wh...</td>\n",
       "      <td>0</td>\n",
       "    </tr>\n",
       "    <tr>\n",
       "      <th>2</th>\n",
       "      <td>@berkeley_eagle #MKR  this shit show has more ...</td>\n",
       "      <td>0</td>\n",
       "    </tr>\n",
       "    <tr>\n",
       "      <th>3</th>\n",
       "      <td>*sigh* oh Colin 😍 #MKR</td>\n",
       "      <td>0</td>\n",
       "    </tr>\n",
       "    <tr>\n",
       "      <th>4</th>\n",
       "      <td>RT @brian_day15: I swear, I'm not sexist, but ...</td>\n",
       "      <td>1</td>\n",
       "    </tr>\n",
       "  </tbody>\n",
       "</table>\n",
       "</div>"
      ],
      "text/plain": [
       "                                              Tweets Label\n",
       "0          Oh yeah Colin! Smash those girls! :D #MKR     1\n",
       "1  It's insane they keep bringing people back. Wh...     0\n",
       "2  @berkeley_eagle #MKR  this shit show has more ...     0\n",
       "3                             *sigh* oh Colin 😍 #MKR     0\n",
       "4  RT @brian_day15: I swear, I'm not sexist, but ...     1"
      ]
     },
     "execution_count": 131,
     "metadata": {},
     "output_type": "execute_result"
    }
   ],
   "source": [
    "df.head()\n"
   ]
  },
  {
   "cell_type": "code",
   "execution_count": 132,
   "id": "727e8323",
   "metadata": {},
   "outputs": [
    {
     "data": {
      "text/html": [
       "<div>\n",
       "<style scoped>\n",
       "    .dataframe tbody tr th:only-of-type {\n",
       "        vertical-align: middle;\n",
       "    }\n",
       "\n",
       "    .dataframe tbody tr th {\n",
       "        vertical-align: top;\n",
       "    }\n",
       "\n",
       "    .dataframe thead th {\n",
       "        text-align: right;\n",
       "    }\n",
       "</style>\n",
       "<table border=\"1\" class=\"dataframe\">\n",
       "  <thead>\n",
       "    <tr style=\"text-align: right;\">\n",
       "      <th></th>\n",
       "      <th>Tweets</th>\n",
       "      <th>Label</th>\n",
       "    </tr>\n",
       "  </thead>\n",
       "  <tbody>\n",
       "    <tr>\n",
       "      <th>11320</th>\n",
       "      <td>Oh fuck me hard with a rusty chainsaw, another...</td>\n",
       "      <td>0</td>\n",
       "    </tr>\n",
       "    <tr>\n",
       "      <th>11321</th>\n",
       "      <td>OMG SHUT UP DRASKO AND BIANCA #MKR #FINALFIVE</td>\n",
       "      <td>0</td>\n",
       "    </tr>\n",
       "    <tr>\n",
       "      <th>11322</th>\n",
       "      <td>STFU drasko #MKR</td>\n",
       "      <td>0</td>\n",
       "    </tr>\n",
       "    <tr>\n",
       "      <th>11323</th>\n",
       "      <td>Ash found her inner bogun #whistle #fingersint...</td>\n",
       "      <td>1</td>\n",
       "    </tr>\n",
       "    <tr>\n",
       "      <th>11324</th>\n",
       "      <td>Sorry but #JessieJ on #thevoiceau is being a r...</td>\n",
       "      <td>1</td>\n",
       "    </tr>\n",
       "  </tbody>\n",
       "</table>\n",
       "</div>"
      ],
      "text/plain": [
       "                                                  Tweets Label\n",
       "11320  Oh fuck me hard with a rusty chainsaw, another...     0\n",
       "11321      OMG SHUT UP DRASKO AND BIANCA #MKR #FINALFIVE     0\n",
       "11322                                   STFU drasko #MKR     0\n",
       "11323  Ash found her inner bogun #whistle #fingersint...     1\n",
       "11324  Sorry but #JessieJ on #thevoiceau is being a r...     1"
      ]
     },
     "execution_count": 132,
     "metadata": {},
     "output_type": "execute_result"
    }
   ],
   "source": [
    "df.tail()"
   ]
  },
  {
   "cell_type": "code",
   "execution_count": 133,
   "id": "ab51f654",
   "metadata": {},
   "outputs": [],
   "source": [
    "import re\n",
    "def remove_pattern(input_text,pattern):\n",
    "    r=re.findall(pattern,input_text)\n",
    "    for i in r:\n",
    "        input_text= re.sub(i,'',input_text)\n",
    "    return input_text\n",
    "df['Tweets'] = np.vectorize(remove_pattern)(df['Tweets'], \"@[\\w]*\")\n",
    "df['Tweets'] = df['Tweets'].str.replace(\"[^a-zA-Z#]\", \" \")"
   ]
  },
  {
   "cell_type": "code",
   "execution_count": null,
   "id": "689ae545",
   "metadata": {},
   "outputs": [],
   "source": []
  },
  {
   "cell_type": "code",
   "execution_count": 134,
   "id": "8b7d9a8a",
   "metadata": {},
   "outputs": [
    {
     "data": {
      "text/html": [
       "<div>\n",
       "<style scoped>\n",
       "    .dataframe tbody tr th:only-of-type {\n",
       "        vertical-align: middle;\n",
       "    }\n",
       "\n",
       "    .dataframe tbody tr th {\n",
       "        vertical-align: top;\n",
       "    }\n",
       "\n",
       "    .dataframe thead th {\n",
       "        text-align: right;\n",
       "    }\n",
       "</style>\n",
       "<table border=\"1\" class=\"dataframe\">\n",
       "  <thead>\n",
       "    <tr style=\"text-align: right;\">\n",
       "      <th></th>\n",
       "      <th>Tweets</th>\n",
       "      <th>Label</th>\n",
       "    </tr>\n",
       "  </thead>\n",
       "  <tbody>\n",
       "    <tr>\n",
       "      <th>0</th>\n",
       "      <td>Oh yeah Colin! Smash those girls! :D #MKR</td>\n",
       "      <td>1</td>\n",
       "    </tr>\n",
       "    <tr>\n",
       "      <th>1</th>\n",
       "      <td>It's insane they keep bringing people back. Wh...</td>\n",
       "      <td>0</td>\n",
       "    </tr>\n",
       "    <tr>\n",
       "      <th>2</th>\n",
       "      <td>#MKR  this shit show has more comebacks than ...</td>\n",
       "      <td>0</td>\n",
       "    </tr>\n",
       "    <tr>\n",
       "      <th>3</th>\n",
       "      <td>*sigh* oh Colin 😍 #MKR</td>\n",
       "      <td>0</td>\n",
       "    </tr>\n",
       "    <tr>\n",
       "      <th>4</th>\n",
       "      <td>RT : I swear, I'm not sexist, but I honestly j...</td>\n",
       "      <td>1</td>\n",
       "    </tr>\n",
       "    <tr>\n",
       "      <th>...</th>\n",
       "      <td>...</td>\n",
       "      <td>...</td>\n",
       "    </tr>\n",
       "    <tr>\n",
       "      <th>11320</th>\n",
       "      <td>Oh fuck me hard with a rusty chainsaw, another...</td>\n",
       "      <td>0</td>\n",
       "    </tr>\n",
       "    <tr>\n",
       "      <th>11321</th>\n",
       "      <td>OMG SHUT UP DRASKO AND BIANCA #MKR #FINALFIVE</td>\n",
       "      <td>0</td>\n",
       "    </tr>\n",
       "    <tr>\n",
       "      <th>11322</th>\n",
       "      <td>STFU drasko #MKR</td>\n",
       "      <td>0</td>\n",
       "    </tr>\n",
       "    <tr>\n",
       "      <th>11323</th>\n",
       "      <td>Ash found her inner bogun #whistle #fingersint...</td>\n",
       "      <td>1</td>\n",
       "    </tr>\n",
       "    <tr>\n",
       "      <th>11324</th>\n",
       "      <td>Sorry but #JessieJ on #thevoiceau is being a r...</td>\n",
       "      <td>1</td>\n",
       "    </tr>\n",
       "  </tbody>\n",
       "</table>\n",
       "<p>11325 rows × 2 columns</p>\n",
       "</div>"
      ],
      "text/plain": [
       "                                                  Tweets Label\n",
       "0              Oh yeah Colin! Smash those girls! :D #MKR     1\n",
       "1      It's insane they keep bringing people back. Wh...     0\n",
       "2       #MKR  this shit show has more comebacks than ...     0\n",
       "3                                 *sigh* oh Colin 😍 #MKR     0\n",
       "4      RT : I swear, I'm not sexist, but I honestly j...     1\n",
       "...                                                  ...   ...\n",
       "11320  Oh fuck me hard with a rusty chainsaw, another...     0\n",
       "11321      OMG SHUT UP DRASKO AND BIANCA #MKR #FINALFIVE     0\n",
       "11322                                   STFU drasko #MKR     0\n",
       "11323  Ash found her inner bogun #whistle #fingersint...     1\n",
       "11324  Sorry but #JessieJ on #thevoiceau is being a r...     1\n",
       "\n",
       "[11325 rows x 2 columns]"
      ]
     },
     "execution_count": 134,
     "metadata": {},
     "output_type": "execute_result"
    }
   ],
   "source": [
    "df"
   ]
  },
  {
   "cell_type": "code",
   "execution_count": 135,
   "id": "952d8cea",
   "metadata": {},
   "outputs": [],
   "source": [
    "df['Tweets']=df['Tweets'].str.lower().str.split()\n"
   ]
  },
  {
   "cell_type": "code",
   "execution_count": 136,
   "id": "edbf1a18",
   "metadata": {},
   "outputs": [
    {
     "data": {
      "text/html": [
       "<div>\n",
       "<style scoped>\n",
       "    .dataframe tbody tr th:only-of-type {\n",
       "        vertical-align: middle;\n",
       "    }\n",
       "\n",
       "    .dataframe tbody tr th {\n",
       "        vertical-align: top;\n",
       "    }\n",
       "\n",
       "    .dataframe thead th {\n",
       "        text-align: right;\n",
       "    }\n",
       "</style>\n",
       "<table border=\"1\" class=\"dataframe\">\n",
       "  <thead>\n",
       "    <tr style=\"text-align: right;\">\n",
       "      <th></th>\n",
       "      <th>Tweets</th>\n",
       "      <th>Label</th>\n",
       "    </tr>\n",
       "  </thead>\n",
       "  <tbody>\n",
       "    <tr>\n",
       "      <th>0</th>\n",
       "      <td>[oh, yeah, colin!, smash, those, girls!, :d, #...</td>\n",
       "      <td>1</td>\n",
       "    </tr>\n",
       "    <tr>\n",
       "      <th>1</th>\n",
       "      <td>[it's, insane, they, keep, bringing, people, b...</td>\n",
       "      <td>0</td>\n",
       "    </tr>\n",
       "    <tr>\n",
       "      <th>2</th>\n",
       "      <td>[#mkr, this, shit, show, has, more, comebacks,...</td>\n",
       "      <td>0</td>\n",
       "    </tr>\n",
       "    <tr>\n",
       "      <th>3</th>\n",
       "      <td>[*sigh*, oh, colin, 😍, #mkr]</td>\n",
       "      <td>0</td>\n",
       "    </tr>\n",
       "    <tr>\n",
       "      <th>4</th>\n",
       "      <td>[rt, :, i, swear,, i'm, not, sexist,, but, i, ...</td>\n",
       "      <td>1</td>\n",
       "    </tr>\n",
       "    <tr>\n",
       "      <th>...</th>\n",
       "      <td>...</td>\n",
       "      <td>...</td>\n",
       "    </tr>\n",
       "    <tr>\n",
       "      <th>11320</th>\n",
       "      <td>[oh, fuck, me, hard, with, a, rusty, chainsaw,...</td>\n",
       "      <td>0</td>\n",
       "    </tr>\n",
       "    <tr>\n",
       "      <th>11321</th>\n",
       "      <td>[omg, shut, up, drasko, and, bianca, #mkr, #fi...</td>\n",
       "      <td>0</td>\n",
       "    </tr>\n",
       "    <tr>\n",
       "      <th>11322</th>\n",
       "      <td>[stfu, drasko, #mkr]</td>\n",
       "      <td>0</td>\n",
       "    </tr>\n",
       "    <tr>\n",
       "      <th>11323</th>\n",
       "      <td>[ash, found, her, inner, bogun, #whistle, #fin...</td>\n",
       "      <td>1</td>\n",
       "    </tr>\n",
       "    <tr>\n",
       "      <th>11324</th>\n",
       "      <td>[sorry, but, #jessiej, on, #thevoiceau, is, be...</td>\n",
       "      <td>1</td>\n",
       "    </tr>\n",
       "  </tbody>\n",
       "</table>\n",
       "<p>11325 rows × 2 columns</p>\n",
       "</div>"
      ],
      "text/plain": [
       "                                                  Tweets Label\n",
       "0      [oh, yeah, colin!, smash, those, girls!, :d, #...     1\n",
       "1      [it's, insane, they, keep, bringing, people, b...     0\n",
       "2      [#mkr, this, shit, show, has, more, comebacks,...     0\n",
       "3                           [*sigh*, oh, colin, 😍, #mkr]     0\n",
       "4      [rt, :, i, swear,, i'm, not, sexist,, but, i, ...     1\n",
       "...                                                  ...   ...\n",
       "11320  [oh, fuck, me, hard, with, a, rusty, chainsaw,...     0\n",
       "11321  [omg, shut, up, drasko, and, bianca, #mkr, #fi...     0\n",
       "11322                               [stfu, drasko, #mkr]     0\n",
       "11323  [ash, found, her, inner, bogun, #whistle, #fin...     1\n",
       "11324  [sorry, but, #jessiej, on, #thevoiceau, is, be...     1\n",
       "\n",
       "[11325 rows x 2 columns]"
      ]
     },
     "execution_count": 136,
     "metadata": {},
     "output_type": "execute_result"
    }
   ],
   "source": [
    "df"
   ]
  },
  {
   "cell_type": "code",
   "execution_count": 137,
   "id": "a393fc6b",
   "metadata": {},
   "outputs": [
    {
     "name": "stderr",
     "output_type": "stream",
     "text": [
      "[nltk_data] Downloading package punkt to /home/yash/nltk_data...\n",
      "[nltk_data]   Package punkt is already up-to-date!\n"
     ]
    },
    {
     "data": {
      "text/plain": [
       "True"
      ]
     },
     "execution_count": 137,
     "metadata": {},
     "output_type": "execute_result"
    }
   ],
   "source": [
    "import nltk\n",
    "nltk.download('punkt')\n"
   ]
  },
  {
   "cell_type": "code",
   "execution_count": 138,
   "id": "2db3e146",
   "metadata": {},
   "outputs": [
    {
     "name": "stderr",
     "output_type": "stream",
     "text": [
      "[nltk_data] Downloading package stopwords to /home/yash/nltk_data...\n",
      "[nltk_data]   Package stopwords is already up-to-date!\n"
     ]
    }
   ],
   "source": [
    "nltk.download('stopwords')\n",
    "from nltk.corpus import stopwords\n",
    "def remove_pattern(input_text, pattern):\n",
    "    return re.sub(pattern, '', input_text)\n",
    "\n",
    "# Remove stopwords\n",
    "stopwords_set = set(stopwords.words('english'))"
   ]
  },
  {
   "cell_type": "code",
   "execution_count": 140,
   "id": "3222ebe0",
   "metadata": {},
   "outputs": [],
   "source": [
    "df['Tweets'] = df['Tweets'].apply(lambda x: ' '.join([word for word in x if word not in stopwords_set]))\n",
    "# Remove specific characters\n",
    "df['Tweets'] = df['Tweets'].apply(lambda x: remove_pattern(x, r'@\\w+|#\\w+|!|rt|\\*|:'))"
   ]
  },
  {
   "cell_type": "code",
   "execution_count": 141,
   "id": "8eb65e75",
   "metadata": {},
   "outputs": [],
   "source": [
    "from nltk.stem import\tWordNetLemmatizer\n",
    "lemmatizer = WordNetLemmatizer()"
   ]
  },
  {
   "cell_type": "code",
   "execution_count": 142,
   "id": "848b66b2",
   "metadata": {},
   "outputs": [
    {
     "name": "stderr",
     "output_type": "stream",
     "text": [
      "[nltk_data] Downloading package wordnet to /home/yash/nltk_data...\n",
      "[nltk_data]   Package wordnet is already up-to-date!\n"
     ]
    },
    {
     "data": {
      "text/plain": [
       "True"
      ]
     },
     "execution_count": 142,
     "metadata": {},
     "output_type": "execute_result"
    }
   ],
   "source": [
    "nltk.download('wordnet')"
   ]
  },
  {
   "cell_type": "code",
   "execution_count": 143,
   "id": "c1e32945",
   "metadata": {},
   "outputs": [],
   "source": [
    "\n",
    "for i in df['Tweets']:\n",
    "    for word in i:\n",
    "        word=lemmatizer.lemmatize(word)"
   ]
  },
  {
   "cell_type": "code",
   "execution_count": 144,
   "id": "7ce4f3c3",
   "metadata": {},
   "outputs": [
    {
     "data": {
      "text/plain": [
       "(11325, 2)"
      ]
     },
     "execution_count": 144,
     "metadata": {},
     "output_type": "execute_result"
    }
   ],
   "source": [
    "df.shape"
   ]
  },
  {
   "cell_type": "code",
   "execution_count": 145,
   "id": "9ea95c9c",
   "metadata": {},
   "outputs": [],
   "source": [
    "X = df['Tweets'].astype(str)\n",
    "Y = df['Label'].replace('Positive', 'Not Positive')"
   ]
  },
  {
   "cell_type": "code",
   "execution_count": 146,
   "id": "6baec9b1",
   "metadata": {},
   "outputs": [
    {
     "data": {
      "text/html": [
       "<div>\n",
       "<style scoped>\n",
       "    .dataframe tbody tr th:only-of-type {\n",
       "        vertical-align: middle;\n",
       "    }\n",
       "\n",
       "    .dataframe tbody tr th {\n",
       "        vertical-align: top;\n",
       "    }\n",
       "\n",
       "    .dataframe thead th {\n",
       "        text-align: right;\n",
       "    }\n",
       "</style>\n",
       "<table border=\"1\" class=\"dataframe\">\n",
       "  <thead>\n",
       "    <tr style=\"text-align: right;\">\n",
       "      <th></th>\n",
       "      <th>Tweets</th>\n",
       "      <th>Label</th>\n",
       "    </tr>\n",
       "  </thead>\n",
       "  <tbody>\n",
       "    <tr>\n",
       "      <th>0</th>\n",
       "      <td>oh yeah colin smash girls d</td>\n",
       "      <td>1</td>\n",
       "    </tr>\n",
       "    <tr>\n",
       "      <th>1</th>\n",
       "      <td>insane keep bringing people back. show end</td>\n",
       "      <td>0</td>\n",
       "    </tr>\n",
       "    <tr>\n",
       "      <th>2</th>\n",
       "      <td>shit show comebacks johnny farnham, ok back</td>\n",
       "      <td>0</td>\n",
       "    </tr>\n",
       "    <tr>\n",
       "      <th>3</th>\n",
       "      <td>sigh oh colin 😍</td>\n",
       "      <td>0</td>\n",
       "    </tr>\n",
       "    <tr>\n",
       "      <th>4</th>\n",
       "      <td>swear, i'm sexist, honestly cannot stand wom...</td>\n",
       "      <td>1</td>\n",
       "    </tr>\n",
       "    <tr>\n",
       "      <th>...</th>\n",
       "      <td>...</td>\n",
       "      <td>...</td>\n",
       "    </tr>\n",
       "    <tr>\n",
       "      <th>11320</th>\n",
       "      <td>oh fuck hard rusty chainsaw, another round ins...</td>\n",
       "      <td>0</td>\n",
       "    </tr>\n",
       "    <tr>\n",
       "      <th>11321</th>\n",
       "      <td>omg shut drasko bianca</td>\n",
       "      <td>0</td>\n",
       "    </tr>\n",
       "    <tr>\n",
       "      <th>11322</th>\n",
       "      <td>stfu drasko</td>\n",
       "      <td>0</td>\n",
       "    </tr>\n",
       "    <tr>\n",
       "      <th>11323</th>\n",
       "      <td>ash found inner bogun   ewwww</td>\n",
       "      <td>1</td>\n",
       "    </tr>\n",
       "    <tr>\n",
       "      <th>11324</th>\n",
       "      <td>sorry   real cunt. that.</td>\n",
       "      <td>1</td>\n",
       "    </tr>\n",
       "  </tbody>\n",
       "</table>\n",
       "<p>11325 rows × 2 columns</p>\n",
       "</div>"
      ],
      "text/plain": [
       "                                                  Tweets Label\n",
       "0                           oh yeah colin smash girls d      1\n",
       "1            insane keep bringing people back. show end      0\n",
       "2           shit show comebacks johnny farnham, ok back      0\n",
       "3                                       sigh oh colin 😍      0\n",
       "4        swear, i'm sexist, honestly cannot stand wom...     1\n",
       "...                                                  ...   ...\n",
       "11320  oh fuck hard rusty chainsaw, another round ins...     0\n",
       "11321                           omg shut drasko bianca       0\n",
       "11322                                       stfu drasko      0\n",
       "11323                     ash found inner bogun   ewwww      1\n",
       "11324                           sorry   real cunt. that.     1\n",
       "\n",
       "[11325 rows x 2 columns]"
      ]
     },
     "execution_count": 146,
     "metadata": {},
     "output_type": "execute_result"
    }
   ],
   "source": [
    "df"
   ]
  },
  {
   "cell_type": "code",
   "execution_count": 147,
   "id": "474904d4",
   "metadata": {},
   "outputs": [],
   "source": [
    "from sklearn.feature_extraction.text import CountVectorizer\n",
    "from sklearn.linear_model import LogisticRegression\n",
    "from sklearn.model_selection import train_test_split\n",
    "from sklearn.metrics import classification_report\n"
   ]
  },
  {
   "cell_type": "code",
   "execution_count": 148,
   "id": "21fc348e",
   "metadata": {},
   "outputs": [],
   "source": [
    "X_train, X_test, Y_train, Y_test = train_test_split(X, Y, test_size=0.2, random_state=42)\n",
    "Y_test = Y_test.astype(str)"
   ]
  },
  {
   "cell_type": "code",
   "execution_count": 149,
   "id": "7399f30f",
   "metadata": {},
   "outputs": [],
   "source": [
    "vectorizer = CountVectorizer()\n",
    "X_train_vec = vectorizer.fit_transform(X_train)\n",
    "X_test_vec = vectorizer.transform(X_test)"
   ]
  },
  {
   "cell_type": "code",
   "execution_count": 150,
   "id": "248da40f",
   "metadata": {},
   "outputs": [
    {
     "data": {
      "text/html": [
       "<style>#sk-container-id-4 {color: black;background-color: white;}#sk-container-id-4 pre{padding: 0;}#sk-container-id-4 div.sk-toggleable {background-color: white;}#sk-container-id-4 label.sk-toggleable__label {cursor: pointer;display: block;width: 100%;margin-bottom: 0;padding: 0.3em;box-sizing: border-box;text-align: center;}#sk-container-id-4 label.sk-toggleable__label-arrow:before {content: \"▸\";float: left;margin-right: 0.25em;color: #696969;}#sk-container-id-4 label.sk-toggleable__label-arrow:hover:before {color: black;}#sk-container-id-4 div.sk-estimator:hover label.sk-toggleable__label-arrow:before {color: black;}#sk-container-id-4 div.sk-toggleable__content {max-height: 0;max-width: 0;overflow: hidden;text-align: left;background-color: #f0f8ff;}#sk-container-id-4 div.sk-toggleable__content pre {margin: 0.2em;color: black;border-radius: 0.25em;background-color: #f0f8ff;}#sk-container-id-4 input.sk-toggleable__control:checked~div.sk-toggleable__content {max-height: 200px;max-width: 100%;overflow: auto;}#sk-container-id-4 input.sk-toggleable__control:checked~label.sk-toggleable__label-arrow:before {content: \"▾\";}#sk-container-id-4 div.sk-estimator input.sk-toggleable__control:checked~label.sk-toggleable__label {background-color: #d4ebff;}#sk-container-id-4 div.sk-label input.sk-toggleable__control:checked~label.sk-toggleable__label {background-color: #d4ebff;}#sk-container-id-4 input.sk-hidden--visually {border: 0;clip: rect(1px 1px 1px 1px);clip: rect(1px, 1px, 1px, 1px);height: 1px;margin: -1px;overflow: hidden;padding: 0;position: absolute;width: 1px;}#sk-container-id-4 div.sk-estimator {font-family: monospace;background-color: #f0f8ff;border: 1px dotted black;border-radius: 0.25em;box-sizing: border-box;margin-bottom: 0.5em;}#sk-container-id-4 div.sk-estimator:hover {background-color: #d4ebff;}#sk-container-id-4 div.sk-parallel-item::after {content: \"\";width: 100%;border-bottom: 1px solid gray;flex-grow: 1;}#sk-container-id-4 div.sk-label:hover label.sk-toggleable__label {background-color: #d4ebff;}#sk-container-id-4 div.sk-serial::before {content: \"\";position: absolute;border-left: 1px solid gray;box-sizing: border-box;top: 0;bottom: 0;left: 50%;z-index: 0;}#sk-container-id-4 div.sk-serial {display: flex;flex-direction: column;align-items: center;background-color: white;padding-right: 0.2em;padding-left: 0.2em;position: relative;}#sk-container-id-4 div.sk-item {position: relative;z-index: 1;}#sk-container-id-4 div.sk-parallel {display: flex;align-items: stretch;justify-content: center;background-color: white;position: relative;}#sk-container-id-4 div.sk-item::before, #sk-container-id-4 div.sk-parallel-item::before {content: \"\";position: absolute;border-left: 1px solid gray;box-sizing: border-box;top: 0;bottom: 0;left: 50%;z-index: -1;}#sk-container-id-4 div.sk-parallel-item {display: flex;flex-direction: column;z-index: 1;position: relative;background-color: white;}#sk-container-id-4 div.sk-parallel-item:first-child::after {align-self: flex-end;width: 50%;}#sk-container-id-4 div.sk-parallel-item:last-child::after {align-self: flex-start;width: 50%;}#sk-container-id-4 div.sk-parallel-item:only-child::after {width: 0;}#sk-container-id-4 div.sk-dashed-wrapped {border: 1px dashed gray;margin: 0 0.4em 0.5em 0.4em;box-sizing: border-box;padding-bottom: 0.4em;background-color: white;}#sk-container-id-4 div.sk-label label {font-family: monospace;font-weight: bold;display: inline-block;line-height: 1.2em;}#sk-container-id-4 div.sk-label-container {text-align: center;}#sk-container-id-4 div.sk-container {/* jupyter's `normalize.less` sets `[hidden] { display: none; }` but bootstrap.min.css set `[hidden] { display: none !important; }` so we also need the `!important` here to be able to override the default hidden behavior on the sphinx rendered scikit-learn.org. See: https://github.com/scikit-learn/scikit-learn/issues/21755 */display: inline-block !important;position: relative;}#sk-container-id-4 div.sk-text-repr-fallback {display: none;}</style><div id=\"sk-container-id-4\" class=\"sk-top-container\"><div class=\"sk-text-repr-fallback\"><pre>LogisticRegression()</pre><b>In a Jupyter environment, please rerun this cell to show the HTML representation or trust the notebook. <br />On GitHub, the HTML representation is unable to render, please try loading this page with nbviewer.org.</b></div><div class=\"sk-container\" hidden><div class=\"sk-item\"><div class=\"sk-estimator sk-toggleable\"><input class=\"sk-toggleable__control sk-hidden--visually\" id=\"sk-estimator-id-4\" type=\"checkbox\" checked><label for=\"sk-estimator-id-4\" class=\"sk-toggleable__label sk-toggleable__label-arrow\">LogisticRegression</label><div class=\"sk-toggleable__content\"><pre>LogisticRegression()</pre></div></div></div></div></div>"
      ],
      "text/plain": [
       "LogisticRegression()"
      ]
     },
     "execution_count": 150,
     "metadata": {},
     "output_type": "execute_result"
    }
   ],
   "source": [
    "from sklearn.preprocessing import LabelEncoder\n",
    "\n",
    "# Create label encoder object\n",
    "label_encoder = LabelEncoder()\n",
    "\n",
    "# Check if labels are already numeric\n",
    "if isinstance(Y_train.values[0], str):\n",
    "    # Encode string labels\n",
    "    Y_train_encoded = label_encoder.fit_transform(Y_train.values)\n",
    "else:\n",
    "    # Convert numeric labels to strings and then encode\n",
    "    Y_train_str = [str(label) for label in Y_train.values]\n",
    "    Y_train_encoded = label_encoder.fit_transform(Y_train_str)\n",
    "\n",
    "# Fit the logistic regression model\n",
    "model = LogisticRegression()\n",
    "model.fit(X_train_vec, Y_train_encoded)"
   ]
  },
  {
   "cell_type": "code",
   "execution_count": 151,
   "id": "326238ba",
   "metadata": {},
   "outputs": [],
   "source": [
    "Y_pred = model.predict(X_test_vec)"
   ]
  },
  {
   "cell_type": "code",
   "execution_count": 152,
   "id": "1daa5ff2",
   "metadata": {},
   "outputs": [
    {
     "name": "stdout",
     "output_type": "stream",
     "text": [
      "              precision    recall  f1-score   support\n",
      "\n",
      "           0       0.85      0.94      0.89      1645\n",
      "           1       0.78      0.56      0.66       619\n",
      "           2       0.00      0.00      0.00         1\n",
      "\n",
      "    accuracy                           0.84      2265\n",
      "   macro avg       0.54      0.50      0.52      2265\n",
      "weighted avg       0.83      0.84      0.83      2265\n",
      "\n"
     ]
    }
   ],
   "source": [
    "Y_test_encoded = label_encoder.transform(Y_test) \n",
    "print(classification_report(Y_test_encoded, Y_pred))"
   ]
  },
  {
   "cell_type": "code",
   "execution_count": null,
   "id": "65df664c",
   "metadata": {},
   "outputs": [],
   "source": []
  },
  {
   "cell_type": "code",
   "execution_count": null,
   "id": "9ae2396b",
   "metadata": {},
   "outputs": [],
   "source": []
  },
  {
   "cell_type": "code",
   "execution_count": null,
   "id": "f1386df8",
   "metadata": {},
   "outputs": [],
   "source": []
  },
  {
   "cell_type": "code",
   "execution_count": null,
   "id": "605d96cb",
   "metadata": {},
   "outputs": [],
   "source": []
  }
 ],
 "metadata": {
  "kernelspec": {
   "display_name": "Python 3 (ipykernel)",
   "language": "python",
   "name": "python3"
  },
  "language_info": {
   "codemirror_mode": {
    "name": "ipython",
    "version": 3
   },
   "file_extension": ".py",
   "mimetype": "text/x-python",
   "name": "python",
   "nbconvert_exporter": "python",
   "pygments_lexer": "ipython3",
   "version": "3.11.3"
  }
 },
 "nbformat": 4,
 "nbformat_minor": 5
}
